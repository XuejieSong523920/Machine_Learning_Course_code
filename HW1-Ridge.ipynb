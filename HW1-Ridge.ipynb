{
 "cells": [
  {
   "cell_type": "code",
   "execution_count": 59,
   "metadata": {},
   "outputs": [
    {
     "data": {
      "text/plain": [
       "'\\nThis is just a rough skeleton to assist you in understanding the process flow. \\nModify it to meet the requirements of the questions. \\n\\nPut the description paragraph here\\nDESCRIPTION OF IMPLEMENTATION:\\n\\nFirstly, to prepare the date, I shuffled the index of the data, then shuffled the data. Then partition them into equal k=5 folds.\\nAnd, save them into the dictionary X_shuffled and y_shuffled respectively.\\n\\nThen set itr as the parameter that the key whose value will be chosed for the valid data, and the leftover will be the train data.\\nWhere I used the \"pop\" function to seperate the valid data and the train data and use \"np.concatenate\" to connection the separated \\ntrain data.\\n\\nSecondly, in order to train the data, I used the formula proven in the Problem 3 which is the solution of the weights.\\nThen, I derivated the regression with intercept and let the derivation equals to 0, then get the solution of intercept.\\n\\nTo valid this method, I uses the X_valid times the weights then plus the intercept to get the y_predict.\\n\\n\\n'"
      ]
     },
     "execution_count": 59,
     "metadata": {},
     "output_type": "execute_result"
    }
   ],
   "source": [
    "\"\"\"\n",
    "This is just a rough skeleton to assist you in understanding the process flow. \n",
    "Modify it to meet the requirements of the questions. \n",
    "\n",
    "Put the description paragraph here\n",
    "DESCRIPTION OF IMPLEMENTATION:\n",
    "\n",
    "Firstly, to prepare the data, I shuffled the index of the data, then used this index to shuffle the data. \n",
    "Then partition them into equal k=5 folds.\n",
    "And, save them into the dictionary X_shuffled and y_shuffled respectively.\n",
    "\n",
    "Then set itr as the parameter that the key whose value will be chosed for the valid data, and the leftover will be the train data.\n",
    "Where I used the \"pop\" function to seperate the valid data and the train data and use \"np.concatenate\" to connection the separated \n",
    "train data.\n",
    "\n",
    "Secondly, in order to train the data, I used the formula proven in the Problem 3 which is the solution of the weights.\n",
    "Then, I derivated the Ridge Regression Function with intercept and let the derivation equals to 0, then get the solution of intercept.\n",
    "\n",
    "To valid this method, I uses the X_valid times the weights then plus the intercept to get the y_predict.\n",
    "\n",
    "Finally, for every lambda, we train the dataset and valid the methon 5 times, and get 5 RMSE, I use their mean value \n",
    "as the final RMSE for this lambda method.\n",
    "\n",
    "Choose different lambda and get different RMSE. Plot RMSE vs lambda.\n",
    "\"\"\""
   ]
  },
  {
   "cell_type": "code",
   "execution_count": 7,
   "metadata": {},
   "outputs": [],
   "source": [
    "import numpy as np\n",
    "import pandas as pd\n",
    "import matplotlib.pyplot as plt"
   ]
  },
  {
   "cell_type": "code",
   "execution_count": 8,
   "metadata": {},
   "outputs": [],
   "source": [
    "# For reading the data you can use either numpy or pandas and accordingly handle your processing. An example could be\n",
    "# my_data = np.genfromtxt('SPAM-HW1.csv', delimiter=',')\n",
    "    "
   ]
  },
  {
   "cell_type": "code",
   "execution_count": 66,
   "metadata": {},
   "outputs": [],
   "source": [
    "house=pd.read_csv(\"Housing.csv\")\n",
    "#the number of columns of the data \n",
    "n=house.shape[0]\n",
    "#the number of rows of the data\n",
    "k=house.shape[1]\n",
    "#the number of the folds\n",
    "f=5\n",
    "\n",
    "#shuffle the dataset\n",
    "np.random.seed(1)\n",
    "shuffled_index=np.random.permutation(n)\n",
    "house_shuffled=house.iloc[shuffled_index]\n",
    "\n",
    "#partition it into equal 5 folds\n",
    "data=[]\n",
    "for i in range(1,f+1):\n",
    "    fold=house_shuffled.iloc[(i-1)*(int(n/f)):i*(int(n/f)),:]\n",
    "    data.append(fold)\n",
    "\n",
    "#Save each of the 5 folds into dictionary X_shuffled and y_shuffled\n",
    "X_shuffled={1:data[0].iloc[:,0:k-1],2:data[1].iloc[:,0:k-1],3:data[2].iloc[:,0:k-1],4:data[3].iloc[:,0:k-1],5:data[4].iloc[:,0:k-1]}\n",
    "y_shuffled={1:data[0].iloc[:,k-1],2:data[1].iloc[:,k-1],3:data[2].iloc[:,k-1],4:data[3].iloc[:,k-1],5:data[4].iloc[:,k-1]}\n"
   ]
  },
  {
   "cell_type": "code",
   "execution_count": 67,
   "metadata": {},
   "outputs": [],
   "source": [
    "def get_next_train_valid(X_shuffled, y_shuffled, itr):\n",
    "    \"\"\"\n",
    "    - itr value can tell you which fold you pick up for valid and rest go to training\n",
    "    - use 1 fold for validation and all other folds for training\n",
    "    - in next iteration, use a different fold for validation and remaining folds for training\n",
    "        \n",
    "    Basically, here you will determine which fold goes for validation and which ones for training\n",
    "    \"\"\"\n",
    "    #return training and validation data Xtrain, ytrain, Xvalid, yvalid\n",
    "    #get the valid dataset \n",
    "    X_valid=X_shuffled[itr]\n",
    "    y_valid=y_shuffled[itr]\n",
    "    \n",
    "    #get the train dataset\n",
    "    Xcopy=X_shuffled.copy()\n",
    "    ycopy=y_shuffled.copy()\n",
    "    Xcopy.pop(itr)\n",
    "    ycopy.pop(itr)\n",
    "    Xtrain=Xcopy\n",
    "    ytrain=ycopy\n",
    "    #to get Xtrain\n",
    "    X_train=np.zeros((1,k-1))\n",
    "    for key in Xtrain:\n",
    "        X_train=np.concatenate((X_train,Xtrain[key]),axis = 0)\n",
    "    \n",
    "    X_train=np.delete(X_train,0,axis = 0)\n",
    "    \n",
    "    #to get y_train\n",
    "    y_train=np.zeros((1))\n",
    "    for key in ytrain:\n",
    "        y_train=np.concatenate((y_train,ytrain[key]),axis = 0)\n",
    "    \n",
    "    y_train=np.delete(y_train,0,axis = 0)\n",
    "    \n",
    "    \n",
    "    return(X_train,y_train,X_valid,y_valid)"
   ]
  },
  {
   "cell_type": "code",
   "execution_count": 68,
   "metadata": {},
   "outputs": [],
   "source": [
    "def train(X_train,y_train, lamda):\n",
    "    \"\"\"\n",
    "    This function should implement fitting or training your model in question. \n",
    "    \"\"\"\n",
    "    # return model\n",
    "    \n",
    "    #weights\n",
    "    model_weights=np.linalg.inv(X_train.T.dot(X_train)+lamda*np.identity(k-1)).dot(X_train.T).dot(y_train)\n",
    "    #intercept\n",
    "    model_intercept=(sum(y_train)-sum(X_train.dot(model_weights)))/((1-1/f)*n)\n",
    "   \n",
    "    return(model_weights, model_intercept)"
   ]
  },
  {
   "cell_type": "code",
   "execution_count": 69,
   "metadata": {},
   "outputs": [],
   "source": [
    "def predict(X_valid, model_weights, model_intercept):\n",
    "    \"\"\"\n",
    "    Here, using the trained model, implement how to predict when you just have feature vector. \n",
    "    \"\"\"\n",
    "    # return \n",
    "    y_predict=X_valid.dot(model_weights)+model_intercept\n",
    "    return(y_predict)"
   ]
  },
  {
   "cell_type": "code",
   "execution_count": 70,
   "metadata": {},
   "outputs": [],
   "source": [
    "def RMSE(lamda):\n",
    "    \"\"\"\n",
    "    Use all the functions above: get the train data and valid data; train the model; get the predict; finally \n",
    "    computer the RMSE for every fold and use their mean value as the RMSE of this lambda method. \n",
    "    \"\"\"\n",
    "    rmse=np.zeros((f))\n",
    "    for i in range(1,f+1):\n",
    "        X_train,y_train,X_valid,y_valid=get_next_train_valid(X_shuffled, y_shuffled, i)\n",
    "        model_weights, model_intercept=train(X_train,y_train, lamda)\n",
    "        y_predict=predict(X_valid, model_weights, model_intercept)\n",
    "        rmse[i-1]=np.sqrt(np.mean((y_predict-y_valid)**2))\n",
    "        \n",
    "    RMSE=np.mean(rmse)\n",
    "    \n",
    "    return(RMSE)    "
   ]
  },
  {
   "cell_type": "code",
   "execution_count": 71,
   "metadata": {
    "scrolled": true
   },
   "outputs": [
    {
     "data": {
      "image/png": "[encoded data removed]",
      "text/plain": [
       "<Figure size 432x288 with 1 Axes>"
      ]
     },
     "metadata": {
      "needs_background": "light"
     },
     "output_type": "display_data"
    }
   ],
   "source": [
    "lamd=np.zeros((101))\n",
    "Rmse=np.zeros((101))\n",
    "for j in range(0,101):\n",
    "    lamd[j]=j\n",
    "    Rmse[j]=RMSE(j)\n",
    "\n",
    "plt.plot(lamd,Rmse)\n",
    "plt.xlabel('lambda'); \n",
    "plt.ylabel('mean RMSE'); \n",
    "plt.show()    "
   ]
  },
  {
   "cell_type": "code",
   "execution_count": 51,
   "metadata": {},
   "outputs": [
    {
     "data": {
      "text/plain": [
       "'\\nMain - Here goes the overall logic.\\n'"
      ]
     },
     "execution_count": 51,
     "metadata": {},
     "output_type": "execute_result"
    }
   ],
   "source": [
    "\"\"\"\n",
    "Main - Here goes the overall logic.\n",
    "\"\"\"\n",
    "# cross-validation to get train and validation data\n",
    "# We will use cross validation for training and validation. In this assignment, we will not use test split separately.\n",
    "#  Let us say we want k-fold with k=5 - shuffle the data and partition into k-equal partitions\n",
    "#  Save paritions into dictionaries\n",
    "\n",
    "#Loop through 5 times, each time selecting 1 fold as validation and remaining as train data sets using function get_next_train_valid \n",
    "#   train your model\n",
    "#   predict target on validation and training\n",
    "#   compute error i.e. RMSE or classification accuracy as per assignment question\n",
    "#\n",
    "#Plot or print as per question - Mean RMSE or accuracy"
   ]
  }
 ],
 "metadata": {
  "kernelspec": {
   "display_name": "Python 3",
   "language": "python",
   "name": "python3"
  },
  "language_info": {
   "codemirror_mode": {
    "name": "ipython",
    "version": 3
   },
   "file_extension": ".py",
   "mimetype": "text/x-python",
   "name": "python",
   "nbconvert_exporter": "python",
   "pygments_lexer": "ipython3",
   "version": "3.7.3"
  }
 },
 "nbformat": 4,
 "nbformat_minor": 2
}
