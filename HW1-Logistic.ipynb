{
 "cells": [
  {
   "cell_type": "markdown",
   "metadata": {},
   "source": [
    "\"\"\"\n",
    "This is just a rough skeleton to assist you in understanding the process flow. \n",
    "Modify it to meet the requirements of the questions. \n",
    "\n",
    "Put the description paragraph here\n",
    "DESCRIPTION OF IMPLEMENTATION:\n",
    "\n",
    "Firstly, to prepare the data, I shuffled the index of the data, then used this index to shuffle the data. \n",
    "Then partition them into equal k=5 folds.\n",
    "And, save them into the dictionary X_shuffled and y_shuffled respectively.\n",
    "\n",
    "Then set itr as the parameter that the key whose value will be chosed for the valid data, and the leftover will be the train data.\n",
    "Where I used the \"pop\" function to seperate the valid data and the train data and use \"np.concatenate\" to connection the separated \n",
    "train data.\n",
    "\n",
    "Secondly, in order to train the data, I used the formula derived in the Problem 2 which is the loglikelihood of logistic function,\n",
    "besides, I also use the cost function to get the gradient which will be used in the gradient descent.\n",
    "\n",
    "In the gradient descent process, alpha is the learning rate hyperparameter. And I set the convergence desicion boundary is the norm of w(t+1)-w(t) is less than 0.0001, and the iteration time is less than 2000.\n",
    "\n",
    "To valid this method, I uses the X_valid times coefficient matrix to get the y_predict.\n",
    "\n",
    "Finally, for every alpha, we train the dataset and valid the methon 5 times, and get 5 error rate, I use their mean value \n",
    "as the final errorate for this alpha method.\n",
    "\n",
    "Choose different lambda and get different error rate. Plot error rate vs alpha.\n",
    "\n",
    "\n",
    "\"\"\""
   ]
  },
  {
   "cell_type": "code",
   "execution_count": 95,
   "metadata": {},
   "outputs": [],
   "source": [
    "import numpy as np\n",
    "import pandas as pd\n",
    "import matplotlib.pyplot as plt "
   ]
  },
  {
   "cell_type": "code",
   "execution_count": 96,
   "metadata": {},
   "outputs": [],
   "source": [
    "# For reading the data you can use either numpy or pandas and accordingly handle your processing. An example could be\n",
    "# my_data = np.genfromtxt('SPAM-HW1.csv', delimiter=',')\n",
    "    "
   ]
  },
  {
   "cell_type": "code",
   "execution_count": 97,
   "metadata": {},
   "outputs": [],
   "source": [
    "np.random.seed(2)\n",
    "features=pd.read_csv(\"IRISFeat.csv\")# in this way the data will be dataframe\n",
    "labels=pd.read_csv(\"IRISlabel.csv\")\n",
    "n=len(features)\n",
    "k=features.shape[1]\n",
    "f=5\n",
    "\n",
    "#shuffle the data\n",
    "shuffled_index=np.random.permutation(n)\n",
    "features_shuffled=features.iloc[shuffled_index]\n",
    "labels_shuffled=labels.iloc[shuffled_index]\n",
    "\n",
    "#partition them into equal 5 folds\n",
    "fea=[]\n",
    "for i in range(1,f+1):\n",
    "    fold=features_shuffled.iloc[(i-1)*(int(n/f)):i*(int(n/f)),:]\n",
    "    fea.append(fold)\n",
    "\n",
    "lab=[]\n",
    "for j in range(1,f+1):\n",
    "    fold=labels_shuffled.iloc[(j-1)*(int(n/f)):j*(int(n/f)),:]\n",
    "    lab.append(fold)\n",
    "\n",
    "#Save each of the 5 folds into dictionary X_shuffled and y_shuffled\n",
    "X_shuffled={1:fea[0],2:fea[1],3:fea[2],4:fea[3],5:fea[4]}\n",
    "y_shuffled={1:lab[0],2:lab[1],3:lab[2],4:lab[3],5:lab[4]}"
   ]
  },
  {
   "cell_type": "code",
   "execution_count": 98,
   "metadata": {},
   "outputs": [],
   "source": [
    "def get_next_train_valid(X_shuffled, y_shuffled, itr):\n",
    "    \"\"\"\n",
    "    - itr value can tell you which fold you pick up for valid and rest go to training\n",
    "    - use 1 fold for validation and all other folds for training\n",
    "    - in next iteration, use a different fold for validation and remaining folds for training\n",
    "        \n",
    "    Basically, here you will determine which fold goes for validation and which ones for training\n",
    "    \"\"\"\n",
    "    #return training and validation data\n",
    "    \n",
    "    #get the valid data\n",
    "    X_valid=X_shuffled[itr]\n",
    "    #design the X_valid matrix: adding a row of 1 which will times the intercept\n",
    "    X_valid=np.concatenate((np.ones((int(n/f),1)),X_valid),axis = 1)\n",
    "    y_valid=y_shuffled[itr]\n",
    "    \n",
    "    #get the shuffled data\n",
    "    Xcopy=X_shuffled.copy()\n",
    "    ycopy=y_shuffled.copy()\n",
    "    Xcopy.pop(itr)\n",
    "    ycopy.pop(itr)\n",
    "    Xtrain=Xcopy\n",
    "    ytrain=ycopy\n",
    "    #get X_train\n",
    "    X_train=np.zeros((1,k))\n",
    "    for key in Xtrain:\n",
    "        X_train=np.concatenate((X_train,Xtrain[key]),axis = 0)\n",
    "    \n",
    "    X_train=np.delete(X_train,0,axis = 0)\n",
    "    X_train=np.concatenate((np.ones(((n-int(n/f)),1)),X_train),axis = 1)\n",
    "    \n",
    "    #get y_train\n",
    "    y_train=np.zeros((1,1))\n",
    "    for key in ytrain:\n",
    "        y_train=np.concatenate((y_train,ytrain[key]),axis = 0)\n",
    "    \n",
    "    y_train=np.delete(y_train,0,axis = 0)\n",
    "    \n",
    "    return(X_train,y_train,X_valid,y_valid)"
   ]
  },
  {
   "cell_type": "code",
   "execution_count": 99,
   "metadata": {},
   "outputs": [],
   "source": [
    "def derivitiveF(X_train, y_train, w):\n",
    "    \"\"\"\n",
    "    Define the gradient, the devitation has been derived in the Problem 2 and I also use the cost function.\n",
    "    \"\"\"\n",
    "    log=1/(1+np.exp(-np.dot(X_train,w)))\n",
    "    grad=(1/(n-(n/f)))*(np.dot(X_train.T,log-y_train))\n",
    "    \n",
    "    return(grad)"
   ]
  },
  {
   "cell_type": "code",
   "execution_count": 100,
   "metadata": {},
   "outputs": [],
   "source": [
    "def train(X_train, y_train,alpha):\n",
    "    \"\"\"\n",
    "    This function uses gradient descent to get the coefficient matrix. \n",
    "    alpha: learning rate\n",
    "    \"\"\"\n",
    "    sita=np.random.randn(k+1,1)\n",
    "    stia=np.ones((k+1,1))\n",
    "    # return model\n",
    "    i=0\n",
    "    while (np.linalg.norm(stia-sita)>0.0001) and i<=2000:\n",
    "        stia=sita\n",
    "        deriv=derivitiveF(X_train, y_train, stia)\n",
    "        sita=stia-alpha*deriv\n",
    "        i+=1\n",
    "        \n",
    "    return(sita)"
   ]
  },
  {
   "cell_type": "code",
   "execution_count": 101,
   "metadata": {},
   "outputs": [],
   "source": [
    "def predict(X_valid, sita):\n",
    "    \"\"\"\n",
    "    Here, using the trained model, implement how to predict when you just have feature vector. \n",
    "    \"\"\"\n",
    "    # return \n",
    "    #return (1*(1/(1+np.exp(-np.dot(X_valid,sita)))))\n",
    "    return 1*((1/(1+np.exp(-np.dot(X_valid,sita))))>0.5)"
   ]
  },
  {
   "cell_type": "code",
   "execution_count": 102,
   "metadata": {},
   "outputs": [],
   "source": [
    "def errorate(alpha):\n",
    "    \"\"\"\n",
    "    Use all the functions above: get the train data and valid data; use gradient descent to get the coefficient matrix;\n",
    "    then let the X_valid times coefficient matrix to get y_predict. Finally, for every learning rate alpha , we have 5 \n",
    "    train datasets and 5 valid datasets, then we can get 5 error rate by counting the numbers of wrong prediction and letting \n",
    "    them divided by the whole numbers of the valid data. Take their mean value as the error rate as this learning rate method.\n",
    "    \"\"\"\n",
    "    er=np.zeros((f))\n",
    "    for i in range(1,f+1):\n",
    "        X_train,y_train,X_valid,y_valid=get_next_train_valid(X_shuffled, y_shuffled, i)\n",
    "        ww=train(X_train, y_train,alpha)\n",
    "        y_predict=predict(X_valid, ww)\n",
    "        k=np.sum(np.absolute(y_predict-y_valid))\n",
    "        er[i-1]=k/(n/f)\n",
    "        \n",
    "    errorate=np.mean(er)\n",
    "        \n",
    "    return(errorate)     "
   ]
  },
  {
   "cell_type": "code",
   "execution_count": 110,
   "metadata": {
    "scrolled": true
   },
   "outputs": [
    {
     "name": "stdout",
     "output_type": "stream",
     "text": [
      "[0.01 0.02 0.03 0.04 0.05 0.06 0.07 0.08]\n",
      "[0.01333333 0.00666667 0.00666667 0.00666667 0.00666667 0.00666667\n",
      " 0.00666667 0.00666667]\n"
     ]
    },
    {
     "data": {
      "image/png": "[encoded data removed]",
      "text/plain": [
       "<Figure size 432x288 with 1 Axes>"
      ]
     },
     "metadata": {
      "needs_background": "light"
     },
     "output_type": "display_data"
    }
   ],
   "source": [
    "r=10\n",
    "alpha=np.zeros((r))\n",
    "err=np.zeros((r))\n",
    "for j in range(0,r):\n",
    "    alpha[j]=j\n",
    "    err[j]=errorate(0.01*j)\n",
    "    \n",
    "plt.plot(0.01*alpha[1:9],err[1:9])\n",
    "print(0.01*alpha[1:9])\n",
    "print(err[1:9])\n",
    "plt.xlabel('learning rate'); \n",
    "plt.ylabel('error rate'); \n",
    "plt.show()    "
   ]
  },
  {
   "cell_type": "markdown",
   "metadata": {},
   "source": [
    "\"\"\"\n",
    "The reason that I chose the learning rate is that I have chose larger number like 0.5 and smaller number like 0.001, the error rates for those method are much larger than the error rate when the learning rate is 0.01. So, I try fix learning rate in the 0.01 magnitude. And find that when learning rate is 0.01 or 0.02, the error rate will change between 0.013 and 0.02. But, when learning rate is 0.02, 0.03, 0.04, ....0.09, the learning rate is fixed at 0.00666666666.\n",
    "\"\"\""
   ]
  },
  {
   "cell_type": "code",
   "execution_count": null,
   "metadata": {},
   "outputs": [],
   "source": [
    "\"\"\"\n",
    "Main - Here goes the overall logic.\n",
    "\"\"\"\n",
    "# cross-validation to get train and validation data\n",
    "# We will use cross validation for training and validation. In this assignment, we will not use test split separately.\n",
    "#  Let us say we want k-fold with k=5 - shuffle the data and partition into k-equal partitions\n",
    "#  Save paritions into dictionaries\n",
    "\n",
    "#Loop through 5 times, each time selecting 1 fold as validation and remaining as train data sets using function get_next_train_valid \n",
    "#   train your model\n",
    "#   predict target on validation and training\n",
    "#   compute error i.e. RMSE or classification accuracy as per assignment question\n",
    "#\n",
    "#Plot or print as per question - Mean RMSE or accuracy"
   ]
  }
 ],
 "metadata": {
  "kernelspec": {
   "display_name": "Python 3",
   "language": "python",
   "name": "python3"
  },
  "language_info": {
   "codemirror_mode": {
    "name": "ipython",
    "version": 3
   },
   "file_extension": ".py",
   "mimetype": "text/x-python",
   "name": "python",
   "nbconvert_exporter": "python",
   "pygments_lexer": "ipython3",
   "version": "3.7.3"
  }
 },
 "nbformat": 4,
 "nbformat_minor": 2
}
